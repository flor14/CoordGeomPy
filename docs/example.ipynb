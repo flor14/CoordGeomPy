{
 "cells": [
  {
   "cell_type": "markdown",
   "metadata": {},
   "source": [
    "# Example usage\n",
    "\n",
    "Here we show you how to use `coordgeompy` functions in a project. The package contains four functions that help with different geometric calculations."
   ]
  },
  {
   "cell_type": "markdown",
   "metadata": {},
   "source": [
    "# Imports"
   ]
  },
  {
   "cell_type": "code",
   "execution_count": 1,
   "metadata": {},
   "outputs": [],
   "source": [
    "from coordgeompy.coordgeompy import dist_pll_lines_2d\n",
    "from coordgeompy.coordgeompy import get_distance\n",
    "from coordgeompy.coordgeompy import is_intersection_3d\n",
    "from coordgeompy.coordgeompy import is_orthogonal"
   ]
  },
  {
   "cell_type": "markdown",
   "metadata": {},
   "source": [
    "## Finding distance between two parallel lines `dist_pll_lines_2d`\n",
    "\n",
    "This function will help a user find distance between two parallel lines with equation y = mx + b. The function requires three inputs: m (slope), b1 and b2 (intercepts from line 1 and line 2 respectively).  \n",
    "**Note**: *Two parallel lines will have the same slope m.*"
   ]
  },
  {
   "cell_type": "code",
   "execution_count": 2,
   "metadata": {},
   "outputs": [
    {
     "data": {
      "text/plain": [
       "2.23606797749979"
      ]
     },
     "execution_count": 2,
     "metadata": {},
     "output_type": "execute_result"
    }
   ],
   "source": [
    "m = 2\n",
    "b1 = 4\n",
    "b2 = -1\n",
    "dist_pll_lines_2d(m, b1, b2)"
   ]
  },
  {
   "cell_type": "code",
   "execution_count": 3,
   "metadata": {},
   "outputs": [
    {
     "data": {
      "text/plain": [
       "0.6324555320336759"
      ]
     },
     "execution_count": 3,
     "metadata": {},
     "output_type": "execute_result"
    }
   ],
   "source": [
    "m = 3.0\n",
    "b1 = 4.5\n",
    "b2 = 2.5\n",
    "dist_pll_lines_2d(m, b1, b2)"
   ]
  },
  {
   "cell_type": "markdown",
   "metadata": {},
   "source": [
    "## Finding distance between two parallel lines `get_distance`\n",
    "\n",
    "This function allows a user to calculate the the distance between two n dimensional vectors. Possible metrics that can be used with this function includes: Euclidean, Manhattan, Chebyshev, or Minkowski"
   ]
  },
  {
   "cell_type": "code",
   "execution_count": 4,
   "metadata": {},
   "outputs": [
    {
     "data": {
      "text/plain": [
       "8.0"
      ]
     },
     "execution_count": 4,
     "metadata": {},
     "output_type": "execute_result"
    }
   ],
   "source": [
    "x1 = [1, 2, 3, 4]\n",
    "x2 = [5, 6, 7, 8]\n",
    "get_distance(x1, x2, metric=\"Euclidean\")"
   ]
  },
  {
   "cell_type": "code",
   "execution_count": 5,
   "metadata": {},
   "outputs": [
    {
     "data": {
      "text/plain": [
       "16"
      ]
     },
     "execution_count": 5,
     "metadata": {},
     "output_type": "execute_result"
    }
   ],
   "source": [
    "get_distance(x1, x2, metric=\"Manhattan\")"
   ]
  },
  {
   "cell_type": "markdown",
   "metadata": {},
   "source": [
    "## Finding distance between two parallel lines `is_intersection_3d`\n",
    "\n",
    "This function determines whether two infinite lines intersect in 3-dimensional space. Note that if two parallel lines are provided, they will be considered as NOT intersecting. Also note that this function expects integer values for x, y, z coordinates. Values will be rounded if integer values are not provided."
   ]
  },
  {
   "cell_type": "code",
   "execution_count": 6,
   "metadata": {},
   "outputs": [
    {
     "data": {
      "text/plain": [
       "True"
      ]
     },
     "execution_count": 6,
     "metadata": {},
     "output_type": "execute_result"
    }
   ],
   "source": [
    "m1 = (1, 0, 0)\n",
    "m2 = (0, 1, 0)\n",
    "b1 = (0, 0, 0)\n",
    "b2 = (0, 0, 0)\n",
    "is_intersection_3d(m1, b1, m2, b2)"
   ]
  },
  {
   "cell_type": "code",
   "execution_count": 7,
   "metadata": {},
   "outputs": [
    {
     "data": {
      "text/plain": [
       "False"
      ]
     },
     "execution_count": 7,
     "metadata": {},
     "output_type": "execute_result"
    }
   ],
   "source": [
    "m3 = (1, 3, -1)\n",
    "m4 = (2, 1, 4)\n",
    "b3 = (0, -2, 4)\n",
    "b4 = (0, 3, -3)\n",
    "is_intersection_3d(m3, m4, b3, b4)"
   ]
  },
  {
   "cell_type": "markdown",
   "metadata": {},
   "source": [
    "## Finding distance between two parallel lines `is_orthogonal`\n",
    "\n",
    "This function determines whether whether two infinite lines are perpendicular in n-dimensional space."
   ]
  },
  {
   "cell_type": "code",
   "execution_count": 8,
   "metadata": {},
   "outputs": [
    {
     "data": {
      "text/plain": [
       "True"
      ]
     },
     "execution_count": 8,
     "metadata": {},
     "output_type": "execute_result"
    }
   ],
   "source": [
    "m1 = (1, 0)\n",
    "m2 = (0, 1)\n",
    "is_orthogonal(m1, m2)"
   ]
  },
  {
   "cell_type": "code",
   "execution_count": 9,
   "metadata": {},
   "outputs": [
    {
     "data": {
      "text/plain": [
       "False"
      ]
     },
     "execution_count": 9,
     "metadata": {},
     "output_type": "execute_result"
    }
   ],
   "source": [
    "m3 = (0, 0, 1)\n",
    "m4 = (1, 1, 1)\n",
    "is_orthogonal(m3, m4)"
   ]
  },
  {
   "cell_type": "code",
   "execution_count": null,
   "metadata": {},
   "outputs": [],
   "source": []
  }
 ],
 "metadata": {
  "kernelspec": {
   "display_name": "Python 3 (ipykernel)",
   "language": "python",
   "name": "python3"
  },
  "language_info": {
   "codemirror_mode": {
    "name": "ipython",
    "version": 3
   },
   "file_extension": ".py",
   "mimetype": "text/x-python",
   "name": "python",
   "nbconvert_exporter": "python",
   "pygments_lexer": "ipython3",
   "version": "3.9.9"
  }
 },
 "nbformat": 4,
 "nbformat_minor": 4
}
